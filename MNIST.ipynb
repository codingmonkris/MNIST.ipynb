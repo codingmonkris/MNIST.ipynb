{
  "nbformat": 4,
  "nbformat_minor": 0,
  "metadata": {
    "colab": {
      "name": "MNIST.ipynb",
      "version": "0.3.2",
      "views": {},
      "default_view": {},
      "provenance": [],
      "collapsed_sections": []
    },
    "kernelspec": {
      "name": "python3",
      "display_name": "Python 3"
    }
  },
  "cells": [
    {
      "metadata": {
        "id": "jhUxItL3wpgb",
        "colab_type": "text"
      },
      "cell_type": "markdown",
      "source": [
        "\n",
        "\n",
        "```\n",
        "IMPORT NECESSARY LIBRARY\n"
      ]
    },
    {
      "metadata": {
        "id": "OiY5v3lUvtfG",
        "colab_type": "code",
        "colab": {
          "autoexec": {
            "startup": false,
            "wait_interval": 0
          }
        }
      },
      "cell_type": "code",
      "source": [
        "import numpy as np\n",
        "from keras import models\n",
        "from keras import layers\n",
        "from keras.callbacks import History\n",
        "from keras.models import model_from_json\n",
        "from keras.utils import to_categorical\n",
        "import matplotlib.pyplot as plt\n",
        "from keras.datasets import mnist\n",
        "from keras.models import model_from_json"
      ],
      "execution_count": 0,
      "outputs": []
    },
    {
      "metadata": {
        "id": "1u-MXljCwdDT",
        "colab_type": "code",
        "colab": {
          "autoexec": {
            "startup": false,
            "wait_interval": 0
          },
          "output_extras": [
            {
              "item_id": 1
            }
          ],
          "base_uri": "https://localhost:8080/",
          "height": 36
        },
        "outputId": "97b7c879-85b0-47b6-f1fa-c31c240c75f8",
        "executionInfo": {
          "status": "ok",
          "timestamp": 1520498242498,
          "user_tz": -330,
          "elapsed": 6759,
          "user": {
            "displayName": "Reshu Singh",
            "photoUrl": "https://lh3.googleusercontent.com/a/default-user=s128",
            "userId": "116996674627853547411"
          }
        }
      },
      "cell_type": "code",
      "source": [
        "# https://keras.io/\n",
        "!pip install -q keras\n",
        "import keras"
      ],
      "execution_count": 2,
      "outputs": [
        {
          "output_type": "stream",
          "text": [
            "Using TensorFlow backend.\n"
          ],
          "name": "stderr"
        }
      ]
    },
    {
      "metadata": {
        "id": "moThICU7w2kx",
        "colab_type": "code",
        "colab": {
          "autoexec": {
            "startup": false,
            "wait_interval": 0
          },
          "output_extras": [
            {
              "item_id": 2
            }
          ],
          "base_uri": "https://localhost:8080/",
          "height": 55
        },
        "outputId": "040b6938-58cf-4285-d31e-ab2d7c66457d",
        "executionInfo": {
          "status": "ok",
          "timestamp": 1520498368775,
          "user_tz": -330,
          "elapsed": 1546,
          "user": {
            "displayName": "Reshu Singh",
            "photoUrl": "https://lh3.googleusercontent.com/a/default-user=s128",
            "userId": "116996674627853547411"
          }
        }
      },
      "cell_type": "code",
      "source": [
        "(train_images,train_labels),(test_images,test_labels)= mnist.load_data()"
      ],
      "execution_count": 6,
      "outputs": [
        {
          "output_type": "stream",
          "text": [
            "Downloading data from https://s3.amazonaws.com/img-datasets/mnist.npz\n",
            "11493376/11490434 [==============================] - 1s 0us/step\n"
          ],
          "name": "stdout"
        }
      ]
    },
    {
      "metadata": {
        "id": "N5w-8ptew9o-",
        "colab_type": "code",
        "colab": {
          "autoexec": {
            "startup": false,
            "wait_interval": 0
          },
          "output_extras": [
            {
              "item_id": 1
            }
          ],
          "base_uri": "https://localhost:8080/",
          "height": 348
        },
        "outputId": "b3e3fc58-f017-40ce-dfb9-a9fb2ecd643d",
        "executionInfo": {
          "status": "ok",
          "timestamp": 1520498387646,
          "user_tz": -330,
          "elapsed": 3530,
          "user": {
            "displayName": "Reshu Singh",
            "photoUrl": "https://lh3.googleusercontent.com/a/default-user=s128",
            "userId": "116996674627853547411"
          }
        }
      },
      "cell_type": "code",
      "source": [
        "#The images are labeled as 10 classes. Which are enumerated as follows \n",
        "classes = ['0', '1', '2', '3', '4', '5', '6', '7', '8', '9']\n",
        "\n",
        "# Printing 5 random examples from training images of each class\n",
        "num_classes = len(classes)\n",
        "samples_per_class = 5\n",
        "for y, cls in enumerate(classes):\n",
        "    idxs = np.flatnonzero(train_labels==y)\n",
        "    idxs = np.random.choice(idxs,samples_per_class, replace=False)\n",
        "    for i, idx in enumerate(idxs):\n",
        "        plt_idx = i * num_classes + y + 1\n",
        "        plt.subplot(samples_per_class, num_classes, plt_idx)\n",
        "        plt.imshow(train_images[idx],cmap=plt.cm.binary)\n",
        "        plt.axis('off')\n",
        "        if i == 0:\n",
        "            plt.title(cls)\n",
        "plt.show()"
      ],
      "execution_count": 7,
      "outputs": [
        {
          "output_type": "display_data",
          "data": {
            "image/png": "[encoded data removed]",
            "text/plain": [
              "<matplotlib.figure.Figure at 0x7efbd0afe8d0>"
            ]
          },
          "metadata": {
            "tags": []
          }
        }
      ]
    },
    {
      "metadata": {
        "id": "FQIx3rRuxBwh",
        "colab_type": "code",
        "colab": {
          "autoexec": {
            "startup": false,
            "wait_interval": 0
          },
          "output_extras": [
            {
              "item_id": 1
            }
          ],
          "base_uri": "https://localhost:8080/",
          "height": 206
        },
        "outputId": "0f65794c-609d-43ae-8261-440d87ddb82f",
        "executionInfo": {
          "status": "ok",
          "timestamp": 1520498410557,
          "user_tz": -330,
          "elapsed": 783,
          "user": {
            "displayName": "Reshu Singh",
            "photoUrl": "https://lh3.googleusercontent.com/a/default-user=s128",
            "userId": "116996674627853547411"
          }
        }
      },
      "cell_type": "code",
      "source": [
        "print(\"Size of the images in the dataset: \" + str(train_images.shape[1:3]) + \"\\n\")\n",
        "print(\"Number of train images: \"+ str(train_images.shape[0]))\n",
        "print(\"Number of test images: \"+ str(test_images.shape[0]) + \"\\n\")\n",
        "print(\"Shape of train image data: \"+ str(train_images.shape))\n",
        "print(\"Shape of test image data: \"+ str(test_images.shape) + \"\\n\")\n",
        "print(\"Train labels :\" + str(train_labels))\n",
        "print(\"Test labels :\" + str(test_labels))"
      ],
      "execution_count": 8,
      "outputs": [
        {
          "output_type": "stream",
          "text": [
            "Size of the images in the dataset: (28, 28)\n",
            "\n",
            "Number of train images: 60000\n",
            "Number of test images: 10000\n",
            "\n",
            "Shape of train image data: (60000, 28, 28)\n",
            "Shape of test image data: (10000, 28, 28)\n",
            "\n",
            "Train labels :[5 0 4 ... 5 6 8]\n",
            "Test labels :[7 2 1 ... 4 5 6]\n"
          ],
          "name": "stdout"
        }
      ]
    },
    {
      "metadata": {
        "id": "2dtotMZ8xIBX",
        "colab_type": "code",
        "colab": {
          "autoexec": {
            "startup": false,
            "wait_interval": 0
          },
          "output_extras": [
            {
              "item_id": 1
            }
          ],
          "base_uri": "https://localhost:8080/",
          "height": 1074
        },
        "cellView": "both",
        "outputId": "d07cf239-3cc7-42dc-a5c7-51c978f6aba0",
        "executionInfo": {
          "status": "ok",
          "timestamp": 1520498499531,
          "user_tz": -330,
          "elapsed": 789,
          "user": {
            "displayName": "Reshu Singh",
            "photoUrl": "https://lh3.googleusercontent.com/a/default-user=s128",
            "userId": "116996674627853547411"
          }
        }
      },
      "cell_type": "code",
      "source": [
        "#Visualization of an Image in the Train dataset \n",
        "#This is how an image is saved in the dataset\n",
        "index=9 # The image you want to see\n",
        "\n",
        "print(train_images[index])\n"
      ],
      "execution_count": 9,
      "outputs": [
        {
          "output_type": "stream",
          "text": [
            "[[  0   0   0   0   0   0   0   0   0   0   0   0   0   0   0   0   0   0\n",
            "    0   0   0   0   0   0   0   0   0   0]\n",
            " [  0   0   0   0   0   0   0   0   0   0   0   0   0   0   0   0   0   0\n",
            "    0   0   0   0   0   0   0   0   0   0]\n",
            " [  0   0   0   0   0   0   0   0   0   0   0   0   0   0   0   0   0   0\n",
            "    0   0   0   0   0   0   0   0   0   0]\n",
            " [  0   0   0   0   0   0   0   0   0   0   0   0   0   0   0   0   0   0\n",
            "    0   0   0   0   0   0   0   0   0   0]\n",
            " [  0   0   0   0   0   0   0   0   0   0   0   0   0   0   0   0   0   0\n",
            "    0   0   0   0 189 190   0   0   0   0]\n",
            " [  0   0   0   0   0   0   0   0   0   0   0   0   0   0   0   0   0   0\n",
            "    0   0   0 143 247 153   0   0   0   0]\n",
            " [  0   0   0   0   0   0   0   0   0   0   0   0   0   0   0   0   0   0\n",
            "    0   0 136 247 242  86   0   0   0   0]\n",
            " [  0   0   0   0   0   0   0   0   0   0   0   0   0   0   0   0   0   0\n",
            "    0   0 192 252 187   0   0   0   0   0]\n",
            " [  0   0   0   0   0   0   0   0   0   0   0   0  62 185  18   0   0   0\n",
            "    0  89 236 217  47   0   0   0   0   0]\n",
            " [  0   0   0   0   0   0   0   0   0   0   0   0 216 253  60   0   0   0\n",
            "    0 212 255  81   0   0   0   0   0   0]\n",
            " [  0   0   0   0   0   0   0   0   0   0   0   0 206 252  68   0   0   0\n",
            "   48 242 253  89   0   0   0   0   0   0]\n",
            " [  0   0   0   0   0   0   0   0   0   0   0 131 251 212  21   0   0  11\n",
            "  167 252 197   5   0   0   0   0   0   0]\n",
            " [  0   0   0   0   0   0   0   0   0   0  29 232 247  63   0   0   0 153\n",
            "  252 226   0   0   0   0   0   0   0   0]\n",
            " [  0   0   0   0   0   0   0   0   0  45 219 252 143   0   0   0 116 249\n",
            "  252 103   0   0   0   0   0   0   0   0]\n",
            " [  0   0   0   0   0   0   0   4  96 253 255 253 200 122   7  25 201 250\n",
            "  158   0   0   0   0   0   0   0   0   0]\n",
            " [  0   0   0   0   0   0   0  92 252 252 253 217 252 252 200 227 252 231\n",
            "    0   0   0   0   0   0   0   0   0   0]\n",
            " [  0   0   0   0   0   0  87 251 247 231  65  48 189 252 252 253 252 251\n",
            "  227  35   0   0   0   0   0   0   0   0]\n",
            " [  0   0   0   0   0   0 190 221  98   0   0   0  42 196 252 253 252 252\n",
            "  162   0   0   0   0   0   0   0   0   0]\n",
            " [  0   0   0   0   0   0 111  29   0   0   0   0  62 239 252  86  42  42\n",
            "   14   0   0   0   0   0   0   0   0   0]\n",
            " [  0   0   0   0   0   0   0   0   0   0   0  15 148 253 218   0   0   0\n",
            "    0   0   0   0   0   0   0   0   0   0]\n",
            " [  0   0   0   0   0   0   0   0   0   0   0 121 252 231  28   0   0   0\n",
            "    0   0   0   0   0   0   0   0   0   0]\n",
            " [  0   0   0   0   0   0   0   0   0   0  31 221 251 129   0   0   0   0\n",
            "    0   0   0   0   0   0   0   0   0   0]\n",
            " [  0   0   0   0   0   0   0   0   0   0 218 252 160   0   0   0   0   0\n",
            "    0   0   0   0   0   0   0   0   0   0]\n",
            " [  0   0   0   0   0   0   0   0   0   0 122 252  82   0   0   0   0   0\n",
            "    0   0   0   0   0   0   0   0   0   0]\n",
            " [  0   0   0   0   0   0   0   0   0   0   0   0   0   0   0   0   0   0\n",
            "    0   0   0   0   0   0   0   0   0   0]\n",
            " [  0   0   0   0   0   0   0   0   0   0   0   0   0   0   0   0   0   0\n",
            "    0   0   0   0   0   0   0   0   0   0]\n",
            " [  0   0   0   0   0   0   0   0   0   0   0   0   0   0   0   0   0   0\n",
            "    0   0   0   0   0   0   0   0   0   0]\n",
            " [  0   0   0   0   0   0   0   0   0   0   0   0   0   0   0   0   0   0\n",
            "    0   0   0   0   0   0   0   0   0   0]]\n"
          ],
          "name": "stdout"
        }
      ]
    },
    {
      "metadata": {
        "id": "XX02R410xdvv",
        "colab_type": "code",
        "colab": {
          "autoexec": {
            "startup": false,
            "wait_interval": 0
          },
          "output_extras": [
            {
              "item_id": 1
            },
            {
              "item_id": 2
            }
          ],
          "base_uri": "https://localhost:8080/",
          "height": 366
        },
        "outputId": "fbedfd12-9048-4e09-dd83-ae968de14eac",
        "executionInfo": {
          "status": "ok",
          "timestamp": 1520498671012,
          "user_tz": -330,
          "elapsed": 945,
          "user": {
            "displayName": "Reshu Singh",
            "photoUrl": "https://lh3.googleusercontent.com/a/default-user=s128",
            "userId": "116996674627853547411"
          }
        }
      },
      "cell_type": "code",
      "source": [
        "#Visualization of the same image\n",
        "plt.imshow(train_images[index],cmap=plt.cm.binary)\n",
        "plt.show()\n",
        "\n",
        "print ((\"Given Label:\") + str(train_labels[index]))"
      ],
      "execution_count": 14,
      "outputs": [
        {
          "output_type": "display_data",
          "data": {
            "image/png": "[encoded data removed]",
            "text/plain": [
              "<matplotlib.figure.Figure at 0x7efbcd964048>"
            ]
          },
          "metadata": {
            "tags": []
          }
        },
        {
          "output_type": "stream",
          "text": [
            "Given Label:4\n"
          ],
          "name": "stdout"
        }
      ]
    },
    {
      "metadata": {
        "id": "3tH_lyu_xpgN",
        "colab_type": "code",
        "colab": {
          "autoexec": {
            "startup": false,
            "wait_interval": 0
          }
        }
      },
      "cell_type": "code",
      "source": [
        "#N/W Arch\n",
        "network=models.Sequential()"
      ],
      "execution_count": 0,
      "outputs": []
    },
    {
      "metadata": {
        "id": "nOaXY_tkyQCB",
        "colab_type": "code",
        "colab": {
          "autoexec": {
            "startup": false,
            "wait_interval": 0
          }
        }
      },
      "cell_type": "code",
      "source": [
        "network.add(layers.Dense(512,activation='relu',input_shape=(28*28,)))"
      ],
      "execution_count": 0,
      "outputs": []
    },
    {
      "metadata": {
        "id": "LSwEzkjYySwB",
        "colab_type": "code",
        "colab": {
          "autoexec": {
            "startup": false,
            "wait_interval": 0
          }
        }
      },
      "cell_type": "code",
      "source": [
        "network.add(layers.Dense(10,activation='softmax'))"
      ],
      "execution_count": 0,
      "outputs": []
    },
    {
      "metadata": {
        "id": "yMnvxQTIyVOj",
        "colab_type": "code",
        "colab": {
          "autoexec": {
            "startup": false,
            "wait_interval": 0
          }
        }
      },
      "cell_type": "code",
      "source": [
        "network.compile(optimizer='adam',loss='categorical_crossentropy',metrics=['accuracy'])"
      ],
      "execution_count": 0,
      "outputs": []
    },
    {
      "metadata": {
        "id": "4-YooMv1yXls",
        "colab_type": "code",
        "colab": {
          "autoexec": {
            "startup": false,
            "wait_interval": 0
          },
          "output_extras": [
            {
              "item_id": 1
            }
          ],
          "base_uri": "https://localhost:8080/",
          "height": 55
        },
        "outputId": "1ad7ad7a-7c7e-4719-f4d0-608ca9285144",
        "executionInfo": {
          "status": "ok",
          "timestamp": 1520498790695,
          "user_tz": -330,
          "elapsed": 889,
          "user": {
            "displayName": "Reshu Singh",
            "photoUrl": "https://lh3.googleusercontent.com/a/default-user=s128",
            "userId": "116996674627853547411"
          }
        }
      },
      "cell_type": "code",
      "source": [
        "#Preparing the data\n",
        "#Reshaping \n",
        "train_images=train_images.reshape((60000,28*28))\n",
        "test_images=test_images.reshape((10000,28*28))\n",
        "print (train_images.shape)\n",
        "print (test_images.shape)\n",
        "\n",
        "#Normalising\n",
        "train_images=train_images.astype('float32')/255\n",
        "test_images=test_images.astype('float32')/255"
      ],
      "execution_count": 20,
      "outputs": [
        {
          "output_type": "stream",
          "text": [
            "(60000, 784)\n",
            "(10000, 784)\n"
          ],
          "name": "stdout"
        }
      ]
    },
    {
      "metadata": {
        "id": "ED32hD52yg_R",
        "colab_type": "code",
        "colab": {
          "autoexec": {
            "startup": false,
            "wait_interval": 0
          }
        }
      },
      "cell_type": "code",
      "source": [
        "train_labels=to_categorical(train_labels)\n",
        "test_labels=to_categorical(test_labels)"
      ],
      "execution_count": 0,
      "outputs": []
    },
    {
      "metadata": {
        "id": "3H7EFkANyoIc",
        "colab_type": "code",
        "colab": {
          "autoexec": {
            "startup": false,
            "wait_interval": 0
          },
          "output_extras": [
            {
              "item_id": 26
            },
            {
              "item_id": 41
            }
          ],
          "base_uri": "https://localhost:8080/",
          "height": 282
        },
        "outputId": "5fb37d84-a24f-469e-c480-c4d218a7588e",
        "executionInfo": {
          "status": "ok",
          "timestamp": 1520498853811,
          "user_tz": -330,
          "elapsed": 38185,
          "user": {
            "displayName": "Reshu Singh",
            "photoUrl": "https://lh3.googleusercontent.com/a/default-user=s128",
            "userId": "116996674627853547411"
          }
        }
      },
      "cell_type": "code",
      "source": [
        "h=network.fit(train_images,train_labels,validation_data=(test_images,test_labels),epochs=6,batch_size=128)"
      ],
      "execution_count": 22,
      "outputs": [
        {
          "output_type": "stream",
          "text": [
            "Train on 60000 samples, validate on 10000 samples\n",
            "Epoch 1/6\n",
            "60000/60000 [==============================] - 6s 102us/step - loss: 0.2688 - acc: 0.9242 - val_loss: 0.1379 - val_acc: 0.9578\n",
            "Epoch 2/6\n",
            "60000/60000 [==============================] - 6s 106us/step - loss: 0.1093 - acc: 0.9680 - val_loss: 0.0958 - val_acc: 0.9709\n",
            "Epoch 3/6\n",
            "60000/60000 [==============================] - 6s 107us/step - loss: 0.0720 - acc: 0.9788 - val_loss: 0.0773 - val_acc: 0.9754\n",
            "Epoch 4/6\n",
            " 4096/60000 [=>............................] - ETA: 5s - loss: 0.0469 - acc: 0.9880"
          ],
          "name": "stdout"
        },
        {
          "output_type": "stream",
          "text": [
            "60000/60000 [==============================] - 6s 105us/step - loss: 0.0508 - acc: 0.9849 - val_loss: 0.0723 - val_acc: 0.9778\n",
            "Epoch 5/6\n",
            "60000/60000 [==============================] - 6s 102us/step - loss: 0.0379 - acc: 0.9888 - val_loss: 0.0661 - val_acc: 0.9797\n",
            "Epoch 6/6\n",
            "60000/60000 [==============================] - 6s 104us/step - loss: 0.0277 - acc: 0.9924 - val_loss: 0.0677 - val_acc: 0.9797\n"
          ],
          "name": "stdout"
        }
      ]
    },
    {
      "metadata": {
        "id": "HhKCoZpUyrGs",
        "colab_type": "code",
        "colab": {
          "autoexec": {
            "startup": false,
            "wait_interval": 0
          },
          "output_extras": [
            {
              "item_id": 1
            }
          ],
          "base_uri": "https://localhost:8080/",
          "height": 36
        },
        "outputId": "a90d2db2-3def-4c1b-b343-a6a6d32b6571",
        "executionInfo": {
          "status": "ok",
          "timestamp": 1520498884260,
          "user_tz": -330,
          "elapsed": 839,
          "user": {
            "displayName": "Reshu Singh",
            "photoUrl": "https://lh3.googleusercontent.com/a/default-user=s128",
            "userId": "116996674627853547411"
          }
        }
      },
      "cell_type": "code",
      "source": [
        "#Save the model\n",
        "\n",
        "# serialize model to JSON\n",
        "model_json = network.to_json()\n",
        "with open(\"mnist_network.json\", \"w\") as json_file:\n",
        "    json_file.write(model_json)\n",
        "# serialize weights to HDF5\n",
        "network.save_weights(\"mnist_network.h5\")\n",
        "print(\"Saved model to drive\")"
      ],
      "execution_count": 23,
      "outputs": [
        {
          "output_type": "stream",
          "text": [
            "Saved model to drive\n"
          ],
          "name": "stdout"
        }
      ]
    },
    {
      "metadata": {
        "id": "es_OGYKAy_lU",
        "colab_type": "code",
        "colab": {
          "autoexec": {
            "startup": false,
            "wait_interval": 0
          },
          "output_extras": [
            {
              "item_id": 1
            },
            {
              "item_id": 2
            }
          ],
          "base_uri": "https://localhost:8080/",
          "height": 762
        },
        "outputId": "6033479b-2e50-45d6-98df-ca0f5c200749",
        "executionInfo": {
          "status": "ok",
          "timestamp": 1520498993485,
          "user_tz": -330,
          "elapsed": 1766,
          "user": {
            "displayName": "Reshu Singh",
            "photoUrl": "https://lh3.googleusercontent.com/a/default-user=s128",
            "userId": "116996674627853547411"
          }
        }
      },
      "cell_type": "code",
      "source": [
        "plt.figure(0)\n",
        "plt.plot(h.history['acc'],'r')\n",
        "plt.plot(h.history['val_acc'],'g')\n",
        "plt.xticks(np.arange(0, 101, 2.0))\n",
        "plt.rcParams['figure.figsize'] = (8, 6)\n",
        "plt.xlabel(\"Num of Epochs\")\n",
        "plt.ylabel(\"Accuracy\")\n",
        "plt.title(\"Training Accuracy vs Validation Accuracy\")\n",
        "plt.legend(['train','validation'])\n",
        " \n",
        " \n",
        "plt.figure(1)\n",
        "plt.plot(h.history['loss'],'r')\n",
        "plt.plot(h.history['val_loss'],'g')\n",
        "plt.xticks(np.arange(0, 101, 2.0))\n",
        "plt.rcParams['figure.figsize'] = (8, 6)\n",
        "plt.xlabel(\"Num of Epochs\")\n",
        "plt.ylabel(\"Loss\")\n",
        "plt.title(\"Training Loss vs Validation Loss\")\n",
        "plt.legend(['train','validation'])\n",
        " \n",
        " \n",
        "plt.show()"
      ],
      "execution_count": 25,
      "outputs": [
        {
          "output_type": "display_data",
          "data": {
            "image/png": "[encoded data removed]",
            "text/plain": [
              "<matplotlib.figure.Figure at 0x7efbcb4935c0>"
            ]
          },
          "metadata": {
            "tags": []
          }
        },
        {
          "output_type": "display_data",
          "data": {
            "image/png": "[encoded data removed]",
            "text/plain": [
              "<matplotlib.figure.Figure at 0x7efbcff750b8>"
            ]
          },
          "metadata": {
            "tags": []
          }
        }
      ]
    },
    {
      "metadata": {
        "id": "Z6cCBsD_zWF3",
        "colab_type": "code",
        "colab": {
          "autoexec": {
            "startup": false,
            "wait_interval": 0
          }
        }
      },
      "cell_type": "code",
      "source": [
        ""
      ],
      "execution_count": 0,
      "outputs": []
    }
  ]
}